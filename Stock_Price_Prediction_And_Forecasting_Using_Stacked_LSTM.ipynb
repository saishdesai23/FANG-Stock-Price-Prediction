{
  "nbformat": 4,
  "nbformat_minor": 0,
  "metadata": {
    "colab": {
      "name": "Stock Price Prediction And Forecasting Using Stacked LSTM",
      "provenance": [],
      "authorship_tag": "ABX9TyMIaLV3/b4GwiXCe/whTbU4",
      "include_colab_link": true
    },
    "kernelspec": {
      "name": "python3",
      "display_name": "Python 3"
    },
    "language_info": {
      "name": "python"
    }
  },
  "cells": [
    {
      "cell_type": "markdown",
      "metadata": {
        "id": "view-in-github",
        "colab_type": "text"
      },
      "source": [
        "<a href=\"https://colab.research.google.com/github/saishdesai23/Stock-Price-Prediction/blob/main/Stock_Price_Prediction_And_Forecasting_Using_Stacked_LSTM.ipynb\" target=\"_parent\"><img src=\"https://colab.research.google.com/assets/colab-badge.svg\" alt=\"Open In Colab\"/></a>"
      ]
    },
    {
      "cell_type": "markdown",
      "source": [
        "# Stock prediction and forcasting using LSTM and Time Series Analysis\n",
        "### Predicting the stock price for Google and Forcasting the stock price for Google for the next 100 days"
      ],
      "metadata": {
        "id": "LmlLVkclwjII"
      }
    },
    {
      "cell_type": "markdown",
      "source": [
        "# 1. Importing all the required libraries"
      ],
      "metadata": {
        "id": "iyB0vTDgv9pr"
      }
    },
    {
      "cell_type": "code",
      "execution_count": null,
      "metadata": {
        "id": "H1VlCQGWRqNy"
      },
      "outputs": [],
      "source": [
        "import pandas_datareader as pdr"
      ]
    },
    {
      "cell_type": "code",
      "source": [
        "stock_data = pdr.get_data_tiingo('GOOGL', api_key='81e773aad74f1d152ac33fbc8920dd1307666da6')"
      ],
      "metadata": {
        "colab": {
          "base_uri": "https://localhost:8080/"
        },
        "id": "lgd1u8GeAkoh",
        "outputId": "6454835e-811c-4e4a-82cf-e0f448e9d19d"
      },
      "execution_count": null,
      "outputs": [
        {
          "output_type": "stream",
          "name": "stderr",
          "text": [
            "/usr/local/lib/python3.7/dist-packages/pandas_datareader/tiingo.py:234: FutureWarning: In a future version of pandas all arguments of concat except for the argument 'objs' will be keyword-only\n",
            "  return pd.concat(dfs, self._concat_axis)\n"
          ]
        }
      ]
    },
    {
      "cell_type": "code",
      "source": [
        "stock_data.to_csv(\"GOOGL.csv\")"
      ],
      "metadata": {
        "id": "uuba6sqvDxMQ"
      },
      "execution_count": null,
      "outputs": []
    },
    {
      "cell_type": "markdown",
      "source": [
        "We have extracted the stock price data for Google from the time period 05/12/2017 to 05/10/2022"
      ],
      "metadata": {
        "id": "RfMOJwi-xCZ3"
      }
    },
    {
      "cell_type": "code",
      "source": [
        "stock_data.head()"
      ],
      "metadata": {
        "colab": {
          "base_uri": "https://localhost:8080/",
          "height": 238
        },
        "id": "eJu10yKCDxU1",
        "outputId": "2df8f4ec-2947-49b5-8762-df18f78b3121"
      },
      "execution_count": null,
      "outputs": [
        {
          "output_type": "execute_result",
          "data": {
            "text/plain": [
              "                                   close      high     low    open   volume  \\\n",
              "symbol date                                                                   \n",
              "GOOGL  2017-05-12 00:00:00+00:00  955.14  957.9800  952.06  957.85  1204133   \n",
              "       2017-05-15 00:00:00+00:00  959.22  962.7000  952.82  955.29  1314574   \n",
              "       2017-05-16 00:00:00+00:00  964.61  965.8955  960.35  963.55  1069898   \n",
              "       2017-05-17 00:00:00+00:00  942.17  960.9900  940.06  959.70  2414323   \n",
              "       2017-05-18 00:00:00+00:00  950.50  954.1800  941.27  943.20  1758452   \n",
              "\n",
              "                                  adjClose   adjHigh  adjLow  adjOpen  \\\n",
              "symbol date                                                             \n",
              "GOOGL  2017-05-12 00:00:00+00:00    955.14  957.9800  952.06   957.85   \n",
              "       2017-05-15 00:00:00+00:00    959.22  962.7000  952.82   955.29   \n",
              "       2017-05-16 00:00:00+00:00    964.61  965.8955  960.35   963.55   \n",
              "       2017-05-17 00:00:00+00:00    942.17  960.9900  940.06   959.70   \n",
              "       2017-05-18 00:00:00+00:00    950.50  954.1800  941.27   943.20   \n",
              "\n",
              "                                  adjVolume  divCash  splitFactor  \n",
              "symbol date                                                        \n",
              "GOOGL  2017-05-12 00:00:00+00:00    1204133      0.0          1.0  \n",
              "       2017-05-15 00:00:00+00:00    1314574      0.0          1.0  \n",
              "       2017-05-16 00:00:00+00:00    1069898      0.0          1.0  \n",
              "       2017-05-17 00:00:00+00:00    2414323      0.0          1.0  \n",
              "       2017-05-18 00:00:00+00:00    1758452      0.0          1.0  "
            ],
            "text/html": [
              "\n",
              "  <div id=\"df-c5bc776f-a96e-4fd2-9764-4a595f16d162\">\n",
              "    <div class=\"colab-df-container\">\n",
              "      <div>\n",
              "<style scoped>\n",
              "    .dataframe tbody tr th:only-of-type {\n",
              "        vertical-align: middle;\n",
              "    }\n",
              "\n",
              "    .dataframe tbody tr th {\n",
              "        vertical-align: top;\n",
              "    }\n",
              "\n",
              "    .dataframe thead th {\n",
              "        text-align: right;\n",
              "    }\n",
              "</style>\n",
              "<table border=\"1\" class=\"dataframe\">\n",
              "  <thead>\n",
              "    <tr style=\"text-align: right;\">\n",
              "      <th></th>\n",
              "      <th></th>\n",
              "      <th>close</th>\n",
              "      <th>high</th>\n",
              "      <th>low</th>\n",
              "      <th>open</th>\n",
              "      <th>volume</th>\n",
              "      <th>adjClose</th>\n",
              "      <th>adjHigh</th>\n",
              "      <th>adjLow</th>\n",
              "      <th>adjOpen</th>\n",
              "      <th>adjVolume</th>\n",
              "      <th>divCash</th>\n",
              "      <th>splitFactor</th>\n",
              "    </tr>\n",
              "    <tr>\n",
              "      <th>symbol</th>\n",
              "      <th>date</th>\n",
              "      <th></th>\n",
              "      <th></th>\n",
              "      <th></th>\n",
              "      <th></th>\n",
              "      <th></th>\n",
              "      <th></th>\n",
              "      <th></th>\n",
              "      <th></th>\n",
              "      <th></th>\n",
              "      <th></th>\n",
              "      <th></th>\n",
              "      <th></th>\n",
              "    </tr>\n",
              "  </thead>\n",
              "  <tbody>\n",
              "    <tr>\n",
              "      <th rowspan=\"5\" valign=\"top\">GOOGL</th>\n",
              "      <th>2017-05-12 00:00:00+00:00</th>\n",
              "      <td>955.14</td>\n",
              "      <td>957.9800</td>\n",
              "      <td>952.06</td>\n",
              "      <td>957.85</td>\n",
              "      <td>1204133</td>\n",
              "      <td>955.14</td>\n",
              "      <td>957.9800</td>\n",
              "      <td>952.06</td>\n",
              "      <td>957.85</td>\n",
              "      <td>1204133</td>\n",
              "      <td>0.0</td>\n",
              "      <td>1.0</td>\n",
              "    </tr>\n",
              "    <tr>\n",
              "      <th>2017-05-15 00:00:00+00:00</th>\n",
              "      <td>959.22</td>\n",
              "      <td>962.7000</td>\n",
              "      <td>952.82</td>\n",
              "      <td>955.29</td>\n",
              "      <td>1314574</td>\n",
              "      <td>959.22</td>\n",
              "      <td>962.7000</td>\n",
              "      <td>952.82</td>\n",
              "      <td>955.29</td>\n",
              "      <td>1314574</td>\n",
              "      <td>0.0</td>\n",
              "      <td>1.0</td>\n",
              "    </tr>\n",
              "    <tr>\n",
              "      <th>2017-05-16 00:00:00+00:00</th>\n",
              "      <td>964.61</td>\n",
              "      <td>965.8955</td>\n",
              "      <td>960.35</td>\n",
              "      <td>963.55</td>\n",
              "      <td>1069898</td>\n",
              "      <td>964.61</td>\n",
              "      <td>965.8955</td>\n",
              "      <td>960.35</td>\n",
              "      <td>963.55</td>\n",
              "      <td>1069898</td>\n",
              "      <td>0.0</td>\n",
              "      <td>1.0</td>\n",
              "    </tr>\n",
              "    <tr>\n",
              "      <th>2017-05-17 00:00:00+00:00</th>\n",
              "      <td>942.17</td>\n",
              "      <td>960.9900</td>\n",
              "      <td>940.06</td>\n",
              "      <td>959.70</td>\n",
              "      <td>2414323</td>\n",
              "      <td>942.17</td>\n",
              "      <td>960.9900</td>\n",
              "      <td>940.06</td>\n",
              "      <td>959.70</td>\n",
              "      <td>2414323</td>\n",
              "      <td>0.0</td>\n",
              "      <td>1.0</td>\n",
              "    </tr>\n",
              "    <tr>\n",
              "      <th>2017-05-18 00:00:00+00:00</th>\n",
              "      <td>950.50</td>\n",
              "      <td>954.1800</td>\n",
              "      <td>941.27</td>\n",
              "      <td>943.20</td>\n",
              "      <td>1758452</td>\n",
              "      <td>950.50</td>\n",
              "      <td>954.1800</td>\n",
              "      <td>941.27</td>\n",
              "      <td>943.20</td>\n",
              "      <td>1758452</td>\n",
              "      <td>0.0</td>\n",
              "      <td>1.0</td>\n",
              "    </tr>\n",
              "  </tbody>\n",
              "</table>\n",
              "</div>\n",
              "      <button class=\"colab-df-convert\" onclick=\"convertToInteractive('df-c5bc776f-a96e-4fd2-9764-4a595f16d162')\"\n",
              "              title=\"Convert this dataframe to an interactive table.\"\n",
              "              style=\"display:none;\">\n",
              "        \n",
              "  <svg xmlns=\"http://www.w3.org/2000/svg\" height=\"24px\"viewBox=\"0 0 24 24\"\n",
              "       width=\"24px\">\n",
              "    <path d=\"M0 0h24v24H0V0z\" fill=\"none\"/>\n",
              "    <path d=\"M18.56 5.44l.94 2.06.94-2.06 2.06-.94-2.06-.94-.94-2.06-.94 2.06-2.06.94zm-11 1L8.5 8.5l.94-2.06 2.06-.94-2.06-.94L8.5 2.5l-.94 2.06-2.06.94zm10 10l.94 2.06.94-2.06 2.06-.94-2.06-.94-.94-2.06-.94 2.06-2.06.94z\"/><path d=\"M17.41 7.96l-1.37-1.37c-.4-.4-.92-.59-1.43-.59-.52 0-1.04.2-1.43.59L10.3 9.45l-7.72 7.72c-.78.78-.78 2.05 0 2.83L4 21.41c.39.39.9.59 1.41.59.51 0 1.02-.2 1.41-.59l7.78-7.78 2.81-2.81c.8-.78.8-2.07 0-2.86zM5.41 20L4 18.59l7.72-7.72 1.47 1.35L5.41 20z\"/>\n",
              "  </svg>\n",
              "      </button>\n",
              "      \n",
              "  <style>\n",
              "    .colab-df-container {\n",
              "      display:flex;\n",
              "      flex-wrap:wrap;\n",
              "      gap: 12px;\n",
              "    }\n",
              "\n",
              "    .colab-df-convert {\n",
              "      background-color: #E8F0FE;\n",
              "      border: none;\n",
              "      border-radius: 50%;\n",
              "      cursor: pointer;\n",
              "      display: none;\n",
              "      fill: #1967D2;\n",
              "      height: 32px;\n",
              "      padding: 0 0 0 0;\n",
              "      width: 32px;\n",
              "    }\n",
              "\n",
              "    .colab-df-convert:hover {\n",
              "      background-color: #E2EBFA;\n",
              "      box-shadow: 0px 1px 2px rgba(60, 64, 67, 0.3), 0px 1px 3px 1px rgba(60, 64, 67, 0.15);\n",
              "      fill: #174EA6;\n",
              "    }\n",
              "\n",
              "    [theme=dark] .colab-df-convert {\n",
              "      background-color: #3B4455;\n",
              "      fill: #D2E3FC;\n",
              "    }\n",
              "\n",
              "    [theme=dark] .colab-df-convert:hover {\n",
              "      background-color: #434B5C;\n",
              "      box-shadow: 0px 1px 3px 1px rgba(0, 0, 0, 0.15);\n",
              "      filter: drop-shadow(0px 1px 2px rgba(0, 0, 0, 0.3));\n",
              "      fill: #FFFFFF;\n",
              "    }\n",
              "  </style>\n",
              "\n",
              "      <script>\n",
              "        const buttonEl =\n",
              "          document.querySelector('#df-c5bc776f-a96e-4fd2-9764-4a595f16d162 button.colab-df-convert');\n",
              "        buttonEl.style.display =\n",
              "          google.colab.kernel.accessAllowed ? 'block' : 'none';\n",
              "\n",
              "        async function convertToInteractive(key) {\n",
              "          const element = document.querySelector('#df-c5bc776f-a96e-4fd2-9764-4a595f16d162');\n",
              "          const dataTable =\n",
              "            await google.colab.kernel.invokeFunction('convertToInteractive',\n",
              "                                                     [key], {});\n",
              "          if (!dataTable) return;\n",
              "\n",
              "          const docLinkHtml = 'Like what you see? Visit the ' +\n",
              "            '<a target=\"_blank\" href=https://colab.research.google.com/notebooks/data_table.ipynb>data table notebook</a>'\n",
              "            + ' to learn more about interactive tables.';\n",
              "          element.innerHTML = '';\n",
              "          dataTable['output_type'] = 'display_data';\n",
              "          await google.colab.output.renderOutput(dataTable, element);\n",
              "          const docLink = document.createElement('div');\n",
              "          docLink.innerHTML = docLinkHtml;\n",
              "          element.appendChild(docLink);\n",
              "        }\n",
              "      </script>\n",
              "    </div>\n",
              "  </div>\n",
              "  "
            ]
          },
          "metadata": {},
          "execution_count": 9
        }
      ]
    },
    {
      "cell_type": "code",
      "source": [
        "stock_data.tail()"
      ],
      "metadata": {
        "colab": {
          "base_uri": "https://localhost:8080/",
          "height": 238
        },
        "id": "_hoI-leAw6A5",
        "outputId": "eaf9cc3f-5887-469e-b886-f43e2f1d920a"
      },
      "execution_count": null,
      "outputs": [
        {
          "output_type": "execute_result",
          "data": {
            "text/plain": [
              "                                    close       high        low     open  \\\n",
              "symbol date                                                                \n",
              "GOOGL  2022-05-04 00:00:00+00:00  2445.22  2457.0900  2302.3200  2340.63   \n",
              "       2022-05-05 00:00:00+00:00  2330.11  2420.7800  2300.1150  2404.08   \n",
              "       2022-05-06 00:00:00+00:00  2314.93  2351.4300  2280.3100  2303.69   \n",
              "       2022-05-09 00:00:00+00:00  2250.22  2301.5418  2240.0101  2265.00   \n",
              "       2022-05-10 00:00:00+00:00  2287.90  2325.0000  2258.0100  2310.15   \n",
              "\n",
              "                                   volume  adjClose    adjHigh     adjLow  \\\n",
              "symbol date                                                                 \n",
              "GOOGL  2022-05-04 00:00:00+00:00  2487859   2445.22  2457.0900  2302.3200   \n",
              "       2022-05-05 00:00:00+00:00  2292029   2330.11  2420.7800  2300.1150   \n",
              "       2022-05-06 00:00:00+00:00  1985479   2314.93  2351.4300  2280.3100   \n",
              "       2022-05-09 00:00:00+00:00  2040143   2250.22  2301.5418  2240.0101   \n",
              "       2022-05-10 00:00:00+00:00  1995019   2287.90  2325.0000  2258.0100   \n",
              "\n",
              "                                  adjOpen  adjVolume  divCash  splitFactor  \n",
              "symbol date                                                                 \n",
              "GOOGL  2022-05-04 00:00:00+00:00  2340.63    2487859      0.0          1.0  \n",
              "       2022-05-05 00:00:00+00:00  2404.08    2292029      0.0          1.0  \n",
              "       2022-05-06 00:00:00+00:00  2303.69    1985479      0.0          1.0  \n",
              "       2022-05-09 00:00:00+00:00  2265.00    2040143      0.0          1.0  \n",
              "       2022-05-10 00:00:00+00:00  2310.15    1995019      0.0          1.0  "
            ],
            "text/html": [
              "\n",
              "  <div id=\"df-9fc4eac0-504f-4385-8797-f1dca61e6b54\">\n",
              "    <div class=\"colab-df-container\">\n",
              "      <div>\n",
              "<style scoped>\n",
              "    .dataframe tbody tr th:only-of-type {\n",
              "        vertical-align: middle;\n",
              "    }\n",
              "\n",
              "    .dataframe tbody tr th {\n",
              "        vertical-align: top;\n",
              "    }\n",
              "\n",
              "    .dataframe thead th {\n",
              "        text-align: right;\n",
              "    }\n",
              "</style>\n",
              "<table border=\"1\" class=\"dataframe\">\n",
              "  <thead>\n",
              "    <tr style=\"text-align: right;\">\n",
              "      <th></th>\n",
              "      <th></th>\n",
              "      <th>close</th>\n",
              "      <th>high</th>\n",
              "      <th>low</th>\n",
              "      <th>open</th>\n",
              "      <th>volume</th>\n",
              "      <th>adjClose</th>\n",
              "      <th>adjHigh</th>\n",
              "      <th>adjLow</th>\n",
              "      <th>adjOpen</th>\n",
              "      <th>adjVolume</th>\n",
              "      <th>divCash</th>\n",
              "      <th>splitFactor</th>\n",
              "    </tr>\n",
              "    <tr>\n",
              "      <th>symbol</th>\n",
              "      <th>date</th>\n",
              "      <th></th>\n",
              "      <th></th>\n",
              "      <th></th>\n",
              "      <th></th>\n",
              "      <th></th>\n",
              "      <th></th>\n",
              "      <th></th>\n",
              "      <th></th>\n",
              "      <th></th>\n",
              "      <th></th>\n",
              "      <th></th>\n",
              "      <th></th>\n",
              "    </tr>\n",
              "  </thead>\n",
              "  <tbody>\n",
              "    <tr>\n",
              "      <th rowspan=\"5\" valign=\"top\">GOOGL</th>\n",
              "      <th>2022-05-04 00:00:00+00:00</th>\n",
              "      <td>2445.22</td>\n",
              "      <td>2457.0900</td>\n",
              "      <td>2302.3200</td>\n",
              "      <td>2340.63</td>\n",
              "      <td>2487859</td>\n",
              "      <td>2445.22</td>\n",
              "      <td>2457.0900</td>\n",
              "      <td>2302.3200</td>\n",
              "      <td>2340.63</td>\n",
              "      <td>2487859</td>\n",
              "      <td>0.0</td>\n",
              "      <td>1.0</td>\n",
              "    </tr>\n",
              "    <tr>\n",
              "      <th>2022-05-05 00:00:00+00:00</th>\n",
              "      <td>2330.11</td>\n",
              "      <td>2420.7800</td>\n",
              "      <td>2300.1150</td>\n",
              "      <td>2404.08</td>\n",
              "      <td>2292029</td>\n",
              "      <td>2330.11</td>\n",
              "      <td>2420.7800</td>\n",
              "      <td>2300.1150</td>\n",
              "      <td>2404.08</td>\n",
              "      <td>2292029</td>\n",
              "      <td>0.0</td>\n",
              "      <td>1.0</td>\n",
              "    </tr>\n",
              "    <tr>\n",
              "      <th>2022-05-06 00:00:00+00:00</th>\n",
              "      <td>2314.93</td>\n",
              "      <td>2351.4300</td>\n",
              "      <td>2280.3100</td>\n",
              "      <td>2303.69</td>\n",
              "      <td>1985479</td>\n",
              "      <td>2314.93</td>\n",
              "      <td>2351.4300</td>\n",
              "      <td>2280.3100</td>\n",
              "      <td>2303.69</td>\n",
              "      <td>1985479</td>\n",
              "      <td>0.0</td>\n",
              "      <td>1.0</td>\n",
              "    </tr>\n",
              "    <tr>\n",
              "      <th>2022-05-09 00:00:00+00:00</th>\n",
              "      <td>2250.22</td>\n",
              "      <td>2301.5418</td>\n",
              "      <td>2240.0101</td>\n",
              "      <td>2265.00</td>\n",
              "      <td>2040143</td>\n",
              "      <td>2250.22</td>\n",
              "      <td>2301.5418</td>\n",
              "      <td>2240.0101</td>\n",
              "      <td>2265.00</td>\n",
              "      <td>2040143</td>\n",
              "      <td>0.0</td>\n",
              "      <td>1.0</td>\n",
              "    </tr>\n",
              "    <tr>\n",
              "      <th>2022-05-10 00:00:00+00:00</th>\n",
              "      <td>2287.90</td>\n",
              "      <td>2325.0000</td>\n",
              "      <td>2258.0100</td>\n",
              "      <td>2310.15</td>\n",
              "      <td>1995019</td>\n",
              "      <td>2287.90</td>\n",
              "      <td>2325.0000</td>\n",
              "      <td>2258.0100</td>\n",
              "      <td>2310.15</td>\n",
              "      <td>1995019</td>\n",
              "      <td>0.0</td>\n",
              "      <td>1.0</td>\n",
              "    </tr>\n",
              "  </tbody>\n",
              "</table>\n",
              "</div>\n",
              "      <button class=\"colab-df-convert\" onclick=\"convertToInteractive('df-9fc4eac0-504f-4385-8797-f1dca61e6b54')\"\n",
              "              title=\"Convert this dataframe to an interactive table.\"\n",
              "              style=\"display:none;\">\n",
              "        \n",
              "  <svg xmlns=\"http://www.w3.org/2000/svg\" height=\"24px\"viewBox=\"0 0 24 24\"\n",
              "       width=\"24px\">\n",
              "    <path d=\"M0 0h24v24H0V0z\" fill=\"none\"/>\n",
              "    <path d=\"M18.56 5.44l.94 2.06.94-2.06 2.06-.94-2.06-.94-.94-2.06-.94 2.06-2.06.94zm-11 1L8.5 8.5l.94-2.06 2.06-.94-2.06-.94L8.5 2.5l-.94 2.06-2.06.94zm10 10l.94 2.06.94-2.06 2.06-.94-2.06-.94-.94-2.06-.94 2.06-2.06.94z\"/><path d=\"M17.41 7.96l-1.37-1.37c-.4-.4-.92-.59-1.43-.59-.52 0-1.04.2-1.43.59L10.3 9.45l-7.72 7.72c-.78.78-.78 2.05 0 2.83L4 21.41c.39.39.9.59 1.41.59.51 0 1.02-.2 1.41-.59l7.78-7.78 2.81-2.81c.8-.78.8-2.07 0-2.86zM5.41 20L4 18.59l7.72-7.72 1.47 1.35L5.41 20z\"/>\n",
              "  </svg>\n",
              "      </button>\n",
              "      \n",
              "  <style>\n",
              "    .colab-df-container {\n",
              "      display:flex;\n",
              "      flex-wrap:wrap;\n",
              "      gap: 12px;\n",
              "    }\n",
              "\n",
              "    .colab-df-convert {\n",
              "      background-color: #E8F0FE;\n",
              "      border: none;\n",
              "      border-radius: 50%;\n",
              "      cursor: pointer;\n",
              "      display: none;\n",
              "      fill: #1967D2;\n",
              "      height: 32px;\n",
              "      padding: 0 0 0 0;\n",
              "      width: 32px;\n",
              "    }\n",
              "\n",
              "    .colab-df-convert:hover {\n",
              "      background-color: #E2EBFA;\n",
              "      box-shadow: 0px 1px 2px rgba(60, 64, 67, 0.3), 0px 1px 3px 1px rgba(60, 64, 67, 0.15);\n",
              "      fill: #174EA6;\n",
              "    }\n",
              "\n",
              "    [theme=dark] .colab-df-convert {\n",
              "      background-color: #3B4455;\n",
              "      fill: #D2E3FC;\n",
              "    }\n",
              "\n",
              "    [theme=dark] .colab-df-convert:hover {\n",
              "      background-color: #434B5C;\n",
              "      box-shadow: 0px 1px 3px 1px rgba(0, 0, 0, 0.15);\n",
              "      filter: drop-shadow(0px 1px 2px rgba(0, 0, 0, 0.3));\n",
              "      fill: #FFFFFF;\n",
              "    }\n",
              "  </style>\n",
              "\n",
              "      <script>\n",
              "        const buttonEl =\n",
              "          document.querySelector('#df-9fc4eac0-504f-4385-8797-f1dca61e6b54 button.colab-df-convert');\n",
              "        buttonEl.style.display =\n",
              "          google.colab.kernel.accessAllowed ? 'block' : 'none';\n",
              "\n",
              "        async function convertToInteractive(key) {\n",
              "          const element = document.querySelector('#df-9fc4eac0-504f-4385-8797-f1dca61e6b54');\n",
              "          const dataTable =\n",
              "            await google.colab.kernel.invokeFunction('convertToInteractive',\n",
              "                                                     [key], {});\n",
              "          if (!dataTable) return;\n",
              "\n",
              "          const docLinkHtml = 'Like what you see? Visit the ' +\n",
              "            '<a target=\"_blank\" href=https://colab.research.google.com/notebooks/data_table.ipynb>data table notebook</a>'\n",
              "            + ' to learn more about interactive tables.';\n",
              "          element.innerHTML = '';\n",
              "          dataTable['output_type'] = 'display_data';\n",
              "          await google.colab.output.renderOutput(dataTable, element);\n",
              "          const docLink = document.createElement('div');\n",
              "          docLink.innerHTML = docLinkHtml;\n",
              "          element.appendChild(docLink);\n",
              "        }\n",
              "      </script>\n",
              "    </div>\n",
              "  </div>\n",
              "  "
            ]
          },
          "metadata": {},
          "execution_count": 10
        }
      ]
    },
    {
      "cell_type": "code",
      "source": [
        "import pandas as pd"
      ],
      "metadata": {
        "id": "QkQex8DQD5dK"
      },
      "execution_count": null,
      "outputs": []
    },
    {
      "cell_type": "code",
      "source": [
        "google_stock_data = pd.read_csv(\"GOOGL.csv\")"
      ],
      "metadata": {
        "id": "KnWPSeEWD8TO"
      },
      "execution_count": null,
      "outputs": []
    },
    {
      "cell_type": "markdown",
      "source": [
        "Let us focus on the closing value of the stock price for each observation."
      ],
      "metadata": {
        "id": "aUyE7p5-xWPI"
      }
    },
    {
      "cell_type": "code",
      "source": [
        "google_close_data = google_stock_data.reset_index()['close']"
      ],
      "metadata": {
        "id": "GgJlyVr5EFN_"
      },
      "execution_count": null,
      "outputs": []
    },
    {
      "cell_type": "code",
      "source": [
        "# size of the dataframe\n",
        "google_close_data.shape"
      ],
      "metadata": {
        "colab": {
          "base_uri": "https://localhost:8080/"
        },
        "id": "a8lm-SDQEcMD",
        "outputId": "84338a8f-e679-4539-ff7d-7bd4986fef57"
      },
      "execution_count": null,
      "outputs": [
        {
          "output_type": "execute_result",
          "data": {
            "text/plain": [
              "(1258,)"
            ]
          },
          "metadata": {},
          "execution_count": 15
        }
      ]
    },
    {
      "cell_type": "markdown",
      "source": [
        "Let us plot the dataframe to visualize the variation in the stock price for the selected time frame"
      ],
      "metadata": {
        "id": "FamQdpEGxn3k"
      }
    },
    {
      "cell_type": "code",
      "source": [
        "import matplotlib.pyplot as plt\n",
        "plt.plot(google_close_data)"
      ],
      "metadata": {
        "colab": {
          "base_uri": "https://localhost:8080/",
          "height": 283
        },
        "id": "xTM-U-c_EgVa",
        "outputId": "e1a19202-7b82-4c8d-e32a-e908b6af0fb4"
      },
      "execution_count": null,
      "outputs": [
        {
          "output_type": "execute_result",
          "data": {
            "text/plain": [
              "[<matplotlib.lines.Line2D at 0x7f770c4f2a50>]"
            ]
          },
          "metadata": {},
          "execution_count": 17
        },
        {
          "output_type": "display_data",
          "data": {
            "text/plain": [
              "<Figure size 432x288 with 1 Axes>"
            ],
            "image/png": "[encoded data removed]"
          },
          "metadata": {
            "needs_background": "light"
          }
        }
      ]
    },
    {
      "cell_type": "code",
      "source": [
        "import numpy as np"
      ],
      "metadata": {
        "id": "cRUuflCOEl6-"
      },
      "execution_count": null,
      "outputs": []
    },
    {
      "cell_type": "markdown",
      "source": [
        "### 1. Standardizing the data using Min Max Scaler\n",
        "We will first standardize the data using min-max scalar so that it can be used by an LSTM model for training"
      ],
      "metadata": {
        "id": "g8egeuUAxydJ"
      }
    },
    {
      "cell_type": "code",
      "source": [
        "from sklearn.preprocessing import MinMaxScaler\n",
        "scaler = MinMaxScaler(feature_range=(0,1))\n",
        "google_close_data=scaler.fit_transform(np.array(google_close_data).reshape(-1,1))\n",
        "google_close_data"
      ],
      "metadata": {
        "id": "iRdVz7HTEpB7",
        "colab": {
          "base_uri": "https://localhost:8080/"
        },
        "outputId": "ac9941db-8058-4a4e-afb7-5758cd84684e"
      },
      "execution_count": null,
      "outputs": [
        {
          "output_type": "execute_result",
          "data": {
            "text/plain": [
              "array([[0.01717606],\n",
              "       [0.01914014],\n",
              "       [0.02173484],\n",
              "       ...,\n",
              "       [0.67176782],\n",
              "       [0.64061695],\n",
              "       [0.65875579]])"
            ]
          },
          "metadata": {},
          "execution_count": 21
        }
      ]
    },
    {
      "cell_type": "code",
      "source": [
        "google_close_data.shape"
      ],
      "metadata": {
        "colab": {
          "base_uri": "https://localhost:8080/"
        },
        "id": "FbyzfS3qFExe",
        "outputId": "4c05729f-a84b-47bc-89c5-3f25b2b7bfcd"
      },
      "execution_count": null,
      "outputs": [
        {
          "output_type": "execute_result",
          "data": {
            "text/plain": [
              "(1258, 1)"
            ]
          },
          "metadata": {},
          "execution_count": 22
        }
      ]
    },
    {
      "cell_type": "markdown",
      "source": [
        "###2. Train test split\n",
        "For performing train test split on time series data, we will choose a date such that 70% observations before it will be in the train data set and the remaining 30% observations following it will be in the test data set"
      ],
      "metadata": {
        "id": "PAhnnuTkyY5B"
      }
    },
    {
      "cell_type": "code",
      "source": [
        "# train test split\n",
        "train_size = int(len(google_close_data)*0.70)\n",
        "test_size = len(google_close_data) - train_size\n",
        "train_data, test_data = google_close_data[0:train_size,:], google_close_data[train_size:len(google_close_data),:1]"
      ],
      "metadata": {
        "id": "Y-dVOXbbFLbx"
      },
      "execution_count": null,
      "outputs": []
    },
    {
      "cell_type": "code",
      "source": [
        "print(len(train_data), len(test_data))"
      ],
      "metadata": {
        "colab": {
          "base_uri": "https://localhost:8080/"
        },
        "id": "_mcRy8QqGjw7",
        "outputId": "0a754bb2-951e-4fb5-f708-424adae6f1f4"
      },
      "execution_count": null,
      "outputs": [
        {
          "output_type": "stream",
          "name": "stdout",
          "text": [
            "880 378\n"
          ]
        }
      ]
    },
    {
      "cell_type": "markdown",
      "source": [
        "###3. Generation of a Datast matrix\n",
        "Based on the time step selected, the number of values selected in the time step will form the features for each observation and the succeeding value will be treated as an outcome"
      ],
      "metadata": {
        "id": "3Nfch39vzOY-"
      }
    },
    {
      "cell_type": "code",
      "source": [
        "def create_dataset(dataset, time_step=1):\n",
        "  \"\"\"\n",
        "  A function to convert an array of values into a dataset matrix\n",
        "  \"\"\"\n",
        "  X, y = [], []\n",
        "  for i in range(len(dataset)-time_step-1):\n",
        "    a = dataset[i:(i+time_step),0]\n",
        "    X.append(a)\n",
        "    Y.append(dataset[i+time_step, 0])\n",
        "  return numpy.array(X), numpy.array(Y)"
      ],
      "metadata": {
        "id": "yveq_eD8G9_-"
      },
      "execution_count": null,
      "outputs": []
    },
    {
      "cell_type": "code",
      "source": [
        "time_step = 100\n",
        "X_train, y_train = create_dataset(train_data, time_step)\n",
        "X_test, y_test = create_dataset(test_data, time_step)"
      ],
      "metadata": {
        "id": "7K6gnIKwLEVA"
      },
      "execution_count": null,
      "outputs": []
    },
    {
      "cell_type": "code",
      "source": [
        "X_train.shape"
      ],
      "metadata": {
        "colab": {
          "base_uri": "https://localhost:8080/"
        },
        "id": "zudicuxcLeJ4",
        "outputId": "0c62cf19-88ec-4542-87e5-570aef75bc18"
      },
      "execution_count": null,
      "outputs": [
        {
          "output_type": "execute_result",
          "data": {
            "text/plain": [
              "(716, 100)"
            ]
          },
          "metadata": {},
          "execution_count": 37
        }
      ]
    },
    {
      "cell_type": "code",
      "source": [
        "y_train.shape"
      ],
      "metadata": {
        "colab": {
          "base_uri": "https://localhost:8080/"
        },
        "id": "sPgdrLwILhcj",
        "outputId": "6d7fed81-7bc9-4b05-9ea1-d906e03fdd01"
      },
      "execution_count": null,
      "outputs": [
        {
          "output_type": "execute_result",
          "data": {
            "text/plain": [
              "(716,)"
            ]
          },
          "metadata": {},
          "execution_count": 38
        }
      ]
    },
    {
      "cell_type": "code",
      "source": [
        "X_test.shape"
      ],
      "metadata": {
        "colab": {
          "base_uri": "https://localhost:8080/"
        },
        "id": "1AxzSsqxLjTC",
        "outputId": "62627019-a974-4d21-b1aa-908777c48da1"
      },
      "execution_count": null,
      "outputs": [
        {
          "output_type": "execute_result",
          "data": {
            "text/plain": [
              "(340, 100)"
            ]
          },
          "metadata": {},
          "execution_count": 39
        }
      ]
    },
    {
      "cell_type": "code",
      "source": [
        "y_test.shape"
      ],
      "metadata": {
        "colab": {
          "base_uri": "https://localhost:8080/"
        },
        "id": "bLhw_-tnLlqm",
        "outputId": "ccabe15d-c422-41dd-b945-b0c9d6ae830e"
      },
      "execution_count": null,
      "outputs": [
        {
          "output_type": "execute_result",
          "data": {
            "text/plain": [
              "(340,)"
            ]
          },
          "metadata": {},
          "execution_count": 40
        }
      ]
    },
    {
      "cell_type": "code",
      "source": [
        "#reshape the input\n",
        "X_train = X_train.reshape(X_train.shape[0], X_train.shape[1], 1 )\n",
        "X_test = X_test.reshape(X_test.shape[0], X_test.shape[1], 1 )"
      ],
      "metadata": {
        "id": "_Bi7x5LtLtF3"
      },
      "execution_count": null,
      "outputs": []
    },
    {
      "cell_type": "code",
      "source": [
        "# create LSTM model\n",
        "from tensorflow.keras.models import Sequential\n",
        "from tensorflow.keras.layers import Dense\n",
        "from tensorflow.keras.layers import LSTM"
      ],
      "metadata": {
        "id": "LIXzU74sLqS8"
      },
      "execution_count": null,
      "outputs": []
    },
    {
      "cell_type": "code",
      "source": [
        "model = Sequential()\n",
        "model.add(LSTM(50, return_sequences=True, input_shape=(100,1)))\n",
        "model.add(LSTM(50, return_sequences=True))\n",
        "model.add(LSTM(50))\n",
        "model.add(Dense(1))\n",
        "model.compile(loss='mean_squared_error', optimizer='adam')"
      ],
      "metadata": {
        "id": "yJwPAMaEMWbs"
      },
      "execution_count": null,
      "outputs": []
    },
    {
      "cell_type": "code",
      "source": [
        "model.summary()"
      ],
      "metadata": {
        "colab": {
          "base_uri": "https://localhost:8080/"
        },
        "id": "VqAZ100WMQ_G",
        "outputId": "57c2f1c4-af9e-4877-ae7f-0ca9c5b81411"
      },
      "execution_count": null,
      "outputs": [
        {
          "output_type": "stream",
          "name": "stdout",
          "text": [
            "Model: \"sequential\"\n",
            "_________________________________________________________________\n",
            " Layer (type)                Output Shape              Param #   \n",
            "=================================================================\n",
            " lstm (LSTM)                 (None, 100, 50)           10400     \n",
            "                                                                 \n",
            " lstm_1 (LSTM)               (None, 100, 50)           20200     \n",
            "                                                                 \n",
            " lstm_2 (LSTM)               (None, 50)                20200     \n",
            "                                                                 \n",
            " dense (Dense)               (None, 1)                 51        \n",
            "                                                                 \n",
            "=================================================================\n",
            "Total params: 50,851\n",
            "Trainable params: 50,851\n",
            "Non-trainable params: 0\n",
            "_________________________________________________________________\n"
          ]
        }
      ]
    },
    {
      "cell_type": "code",
      "source": [
        "model.fit(X_train, y_train, validation_data = (X_test, y_test), epochs=100, batch_size=64, verbose=1)"
      ],
      "metadata": {
        "colab": {
          "base_uri": "https://localhost:8080/"
        },
        "id": "cUhOYMNrNLq_",
        "outputId": "ff4b6e8a-ccb4-4f2c-a61d-2e1e339c3d82"
      },
      "execution_count": null,
      "outputs": [
        {
          "output_type": "stream",
          "name": "stdout",
          "text": [
            "Epoch 1/100\n",
            "12/12 [==============================] - 18s 610ms/step - loss: 0.0442 - val_loss: 0.0117\n",
            "Epoch 2/100\n",
            "12/12 [==============================] - 4s 366ms/step - loss: 0.0084 - val_loss: 0.0101\n",
            "Epoch 3/100\n",
            "12/12 [==============================] - 4s 361ms/step - loss: 0.0038 - val_loss: 0.0013\n",
            "Epoch 4/100\n",
            "12/12 [==============================] - 4s 362ms/step - loss: 0.0014 - val_loss: 3.6117e-04\n",
            "Epoch 5/100\n",
            "12/12 [==============================] - 5s 380ms/step - loss: 0.0013 - val_loss: 2.9202e-04\n",
            "Epoch 6/100\n",
            "12/12 [==============================] - 4s 368ms/step - loss: 0.0012 - val_loss: 3.4475e-04\n",
            "Epoch 7/100\n",
            "12/12 [==============================] - 4s 369ms/step - loss: 0.0012 - val_loss: 4.3751e-04\n",
            "Epoch 8/100\n",
            "12/12 [==============================] - 5s 380ms/step - loss: 0.0011 - val_loss: 3.1174e-04\n",
            "Epoch 9/100\n",
            "12/12 [==============================] - 4s 377ms/step - loss: 9.8277e-04 - val_loss: 4.3518e-04\n",
            "Epoch 10/100\n",
            "12/12 [==============================] - 4s 359ms/step - loss: 9.6459e-04 - val_loss: 4.5168e-04\n",
            "Epoch 11/100\n",
            "12/12 [==============================] - 4s 364ms/step - loss: 9.2592e-04 - val_loss: 4.7389e-04\n",
            "Epoch 12/100\n",
            "12/12 [==============================] - 4s 368ms/step - loss: 9.2194e-04 - val_loss: 3.8465e-04\n",
            "Epoch 13/100\n",
            "12/12 [==============================] - 5s 446ms/step - loss: 8.7896e-04 - val_loss: 5.0397e-04\n",
            "Epoch 14/100\n",
            "12/12 [==============================] - 5s 412ms/step - loss: 8.7124e-04 - val_loss: 3.7274e-04\n",
            "Epoch 15/100\n",
            "12/12 [==============================] - 4s 361ms/step - loss: 8.4532e-04 - val_loss: 4.7672e-04\n",
            "Epoch 16/100\n",
            "12/12 [==============================] - 4s 370ms/step - loss: 8.3083e-04 - val_loss: 4.4204e-04\n",
            "Epoch 17/100\n",
            "12/12 [==============================] - 4s 364ms/step - loss: 7.5763e-04 - val_loss: 3.7541e-04\n",
            "Epoch 18/100\n",
            "12/12 [==============================] - 5s 377ms/step - loss: 7.7370e-04 - val_loss: 3.7510e-04\n",
            "Epoch 19/100\n",
            "12/12 [==============================] - 4s 374ms/step - loss: 8.3879e-04 - val_loss: 3.8169e-04\n",
            "Epoch 20/100\n",
            "12/12 [==============================] - 4s 358ms/step - loss: 7.2745e-04 - val_loss: 6.1175e-04\n",
            "Epoch 21/100\n",
            "12/12 [==============================] - 4s 364ms/step - loss: 9.7548e-04 - val_loss: 3.4011e-04\n",
            "Epoch 22/100\n",
            "12/12 [==============================] - 4s 362ms/step - loss: 7.2862e-04 - val_loss: 2.5631e-04\n",
            "Epoch 23/100\n",
            "12/12 [==============================] - 5s 386ms/step - loss: 6.4411e-04 - val_loss: 4.2057e-04\n",
            "Epoch 24/100\n",
            "12/12 [==============================] - 4s 375ms/step - loss: 7.3142e-04 - val_loss: 2.9343e-04\n",
            "Epoch 25/100\n",
            "12/12 [==============================] - 4s 375ms/step - loss: 7.3909e-04 - val_loss: 2.9603e-04\n",
            "Epoch 26/100\n",
            "12/12 [==============================] - 4s 352ms/step - loss: 6.4882e-04 - val_loss: 3.1193e-04\n",
            "Epoch 27/100\n",
            "12/12 [==============================] - 3s 268ms/step - loss: 6.2689e-04 - val_loss: 2.4666e-04\n",
            "Epoch 28/100\n",
            "12/12 [==============================] - 3s 218ms/step - loss: 6.9042e-04 - val_loss: 2.9238e-04\n",
            "Epoch 29/100\n",
            "12/12 [==============================] - 3s 217ms/step - loss: 6.4636e-04 - val_loss: 3.4810e-04\n",
            "Epoch 30/100\n",
            "12/12 [==============================] - 3s 217ms/step - loss: 6.6309e-04 - val_loss: 2.1672e-04\n",
            "Epoch 31/100\n",
            "12/12 [==============================] - 3s 221ms/step - loss: 6.5256e-04 - val_loss: 3.7610e-04\n",
            "Epoch 32/100\n",
            "12/12 [==============================] - 3s 225ms/step - loss: 6.2565e-04 - val_loss: 2.6256e-04\n",
            "Epoch 33/100\n",
            "12/12 [==============================] - 3s 216ms/step - loss: 6.1669e-04 - val_loss: 3.6970e-04\n",
            "Epoch 34/100\n",
            "12/12 [==============================] - 3s 218ms/step - loss: 7.5791e-04 - val_loss: 2.0647e-04\n",
            "Epoch 35/100\n",
            "12/12 [==============================] - 3s 218ms/step - loss: 8.4989e-04 - val_loss: 3.0252e-04\n",
            "Epoch 36/100\n",
            "12/12 [==============================] - 3s 224ms/step - loss: 6.8421e-04 - val_loss: 3.1110e-04\n",
            "Epoch 37/100\n",
            "12/12 [==============================] - 3s 219ms/step - loss: 5.9738e-04 - val_loss: 2.4092e-04\n",
            "Epoch 38/100\n",
            "12/12 [==============================] - 3s 218ms/step - loss: 6.2120e-04 - val_loss: 2.4796e-04\n",
            "Epoch 39/100\n",
            "12/12 [==============================] - 3s 217ms/step - loss: 5.6757e-04 - val_loss: 2.1310e-04\n",
            "Epoch 40/100\n",
            "12/12 [==============================] - 3s 219ms/step - loss: 6.2963e-04 - val_loss: 4.5308e-04\n",
            "Epoch 41/100\n",
            "12/12 [==============================] - 3s 218ms/step - loss: 7.4952e-04 - val_loss: 2.1389e-04\n",
            "Epoch 42/100\n",
            "12/12 [==============================] - 3s 220ms/step - loss: 6.4463e-04 - val_loss: 2.2420e-04\n",
            "Epoch 43/100\n",
            "12/12 [==============================] - 3s 222ms/step - loss: 5.3972e-04 - val_loss: 2.7783e-04\n",
            "Epoch 44/100\n",
            "12/12 [==============================] - 3s 223ms/step - loss: 5.3739e-04 - val_loss: 2.5035e-04\n",
            "Epoch 45/100\n",
            "12/12 [==============================] - 3s 223ms/step - loss: 5.5921e-04 - val_loss: 2.3296e-04\n",
            "Epoch 46/100\n",
            "12/12 [==============================] - 3s 219ms/step - loss: 5.4963e-04 - val_loss: 3.6377e-04\n",
            "Epoch 47/100\n",
            "12/12 [==============================] - 3s 296ms/step - loss: 6.6642e-04 - val_loss: 2.6929e-04\n",
            "Epoch 48/100\n",
            "12/12 [==============================] - 3s 222ms/step - loss: 5.1051e-04 - val_loss: 2.7067e-04\n",
            "Epoch 49/100\n",
            "12/12 [==============================] - 3s 221ms/step - loss: 5.5763e-04 - val_loss: 1.8454e-04\n",
            "Epoch 50/100\n",
            "12/12 [==============================] - 3s 221ms/step - loss: 5.6078e-04 - val_loss: 2.4838e-04\n",
            "Epoch 51/100\n",
            "12/12 [==============================] - 3s 222ms/step - loss: 5.3087e-04 - val_loss: 1.8352e-04\n",
            "Epoch 52/100\n",
            "12/12 [==============================] - 3s 221ms/step - loss: 5.3342e-04 - val_loss: 1.9045e-04\n",
            "Epoch 53/100\n",
            "12/12 [==============================] - 3s 222ms/step - loss: 6.8722e-04 - val_loss: 2.0756e-04\n",
            "Epoch 54/100\n",
            "12/12 [==============================] - 3s 221ms/step - loss: 7.6572e-04 - val_loss: 1.8202e-04\n",
            "Epoch 55/100\n",
            "12/12 [==============================] - 3s 223ms/step - loss: 5.4056e-04 - val_loss: 2.6191e-04\n",
            "Epoch 56/100\n",
            "12/12 [==============================] - 3s 219ms/step - loss: 6.4811e-04 - val_loss: 1.7590e-04\n",
            "Epoch 57/100\n",
            "12/12 [==============================] - 3s 219ms/step - loss: 6.4151e-04 - val_loss: 1.8763e-04\n",
            "Epoch 58/100\n",
            "12/12 [==============================] - 3s 224ms/step - loss: 5.1593e-04 - val_loss: 2.0495e-04\n",
            "Epoch 59/100\n",
            "12/12 [==============================] - 3s 220ms/step - loss: 5.5084e-04 - val_loss: 1.7205e-04\n",
            "Epoch 60/100\n",
            "12/12 [==============================] - 3s 217ms/step - loss: 5.7829e-04 - val_loss: 2.5318e-04\n",
            "Epoch 61/100\n",
            "12/12 [==============================] - 3s 218ms/step - loss: 5.1898e-04 - val_loss: 1.8986e-04\n",
            "Epoch 62/100\n",
            "12/12 [==============================] - 3s 222ms/step - loss: 4.8983e-04 - val_loss: 2.0058e-04\n",
            "Epoch 63/100\n",
            "12/12 [==============================] - 3s 223ms/step - loss: 5.1196e-04 - val_loss: 1.8692e-04\n",
            "Epoch 64/100\n",
            "12/12 [==============================] - 3s 214ms/step - loss: 4.7166e-04 - val_loss: 1.7020e-04\n",
            "Epoch 65/100\n",
            "12/12 [==============================] - 3s 220ms/step - loss: 4.8474e-04 - val_loss: 1.7364e-04\n",
            "Epoch 66/100\n",
            "12/12 [==============================] - 3s 223ms/step - loss: 4.9176e-04 - val_loss: 1.8970e-04\n",
            "Epoch 67/100\n",
            "12/12 [==============================] - 3s 220ms/step - loss: 4.8426e-04 - val_loss: 2.0791e-04\n",
            "Epoch 68/100\n",
            "12/12 [==============================] - 3s 219ms/step - loss: 4.7841e-04 - val_loss: 1.7580e-04\n",
            "Epoch 69/100\n",
            "12/12 [==============================] - 3s 224ms/step - loss: 4.7380e-04 - val_loss: 1.6276e-04\n",
            "Epoch 70/100\n",
            "12/12 [==============================] - 3s 221ms/step - loss: 5.1671e-04 - val_loss: 1.6107e-04\n",
            "Epoch 71/100\n",
            "12/12 [==============================] - 3s 220ms/step - loss: 4.7456e-04 - val_loss: 1.8243e-04\n",
            "Epoch 72/100\n",
            "12/12 [==============================] - 3s 219ms/step - loss: 4.8694e-04 - val_loss: 2.8503e-04\n",
            "Epoch 73/100\n",
            "12/12 [==============================] - 3s 220ms/step - loss: 5.7688e-04 - val_loss: 1.7321e-04\n",
            "Epoch 74/100\n",
            "12/12 [==============================] - 3s 222ms/step - loss: 5.8412e-04 - val_loss: 1.7163e-04\n",
            "Epoch 75/100\n",
            "12/12 [==============================] - 3s 218ms/step - loss: 4.4351e-04 - val_loss: 1.6189e-04\n",
            "Epoch 76/100\n",
            "12/12 [==============================] - 3s 218ms/step - loss: 4.7119e-04 - val_loss: 2.0300e-04\n",
            "Epoch 77/100\n",
            "12/12 [==============================] - 3s 216ms/step - loss: 4.4178e-04 - val_loss: 1.9510e-04\n",
            "Epoch 78/100\n",
            "12/12 [==============================] - 3s 222ms/step - loss: 5.4935e-04 - val_loss: 1.5813e-04\n",
            "Epoch 79/100\n",
            "12/12 [==============================] - 3s 218ms/step - loss: 5.4313e-04 - val_loss: 2.3267e-04\n",
            "Epoch 80/100\n",
            "12/12 [==============================] - 3s 222ms/step - loss: 5.1939e-04 - val_loss: 1.5272e-04\n",
            "Epoch 81/100\n",
            "12/12 [==============================] - 3s 226ms/step - loss: 4.8018e-04 - val_loss: 2.0225e-04\n",
            "Epoch 82/100\n",
            "12/12 [==============================] - 3s 225ms/step - loss: 4.2987e-04 - val_loss: 1.7689e-04\n",
            "Epoch 83/100\n",
            "12/12 [==============================] - 3s 220ms/step - loss: 4.1530e-04 - val_loss: 2.0869e-04\n",
            "Epoch 84/100\n",
            "12/12 [==============================] - 3s 220ms/step - loss: 4.9631e-04 - val_loss: 2.6433e-04\n",
            "Epoch 85/100\n",
            "12/12 [==============================] - 3s 224ms/step - loss: 5.8352e-04 - val_loss: 1.5403e-04\n",
            "Epoch 86/100\n",
            "12/12 [==============================] - 3s 225ms/step - loss: 4.3683e-04 - val_loss: 1.4577e-04\n",
            "Epoch 87/100\n",
            "12/12 [==============================] - 3s 286ms/step - loss: 4.2375e-04 - val_loss: 3.1622e-04\n",
            "Epoch 88/100\n",
            "12/12 [==============================] - 3s 220ms/step - loss: 5.1010e-04 - val_loss: 1.9074e-04\n",
            "Epoch 89/100\n",
            "12/12 [==============================] - 3s 219ms/step - loss: 4.0916e-04 - val_loss: 1.4331e-04\n",
            "Epoch 90/100\n",
            "12/12 [==============================] - 3s 217ms/step - loss: 4.0563e-04 - val_loss: 1.6501e-04\n",
            "Epoch 91/100\n",
            "12/12 [==============================] - 3s 219ms/step - loss: 4.1990e-04 - val_loss: 1.4851e-04\n",
            "Epoch 92/100\n",
            "12/12 [==============================] - 3s 217ms/step - loss: 5.4602e-04 - val_loss: 1.8941e-04\n",
            "Epoch 93/100\n",
            "12/12 [==============================] - 3s 220ms/step - loss: 5.1688e-04 - val_loss: 1.5566e-04\n",
            "Epoch 94/100\n",
            "12/12 [==============================] - 3s 226ms/step - loss: 4.5800e-04 - val_loss: 2.0243e-04\n",
            "Epoch 95/100\n",
            "12/12 [==============================] - 3s 219ms/step - loss: 3.9467e-04 - val_loss: 1.5643e-04\n",
            "Epoch 96/100\n",
            "12/12 [==============================] - 3s 221ms/step - loss: 3.8292e-04 - val_loss: 1.6438e-04\n",
            "Epoch 97/100\n",
            "12/12 [==============================] - 3s 218ms/step - loss: 3.6855e-04 - val_loss: 1.3779e-04\n",
            "Epoch 98/100\n",
            "12/12 [==============================] - 3s 217ms/step - loss: 3.6075e-04 - val_loss: 1.4019e-04\n",
            "Epoch 99/100\n",
            "12/12 [==============================] - 3s 220ms/step - loss: 3.6364e-04 - val_loss: 1.3358e-04\n",
            "Epoch 100/100\n",
            "12/12 [==============================] - 3s 223ms/step - loss: 3.5169e-04 - val_loss: 1.3812e-04\n"
          ]
        },
        {
          "output_type": "execute_result",
          "data": {
            "text/plain": [
              "<keras.callbacks.History at 0x7fdf0276da90>"
            ]
          },
          "metadata": {},
          "execution_count": 49
        }
      ]
    },
    {
      "cell_type": "code",
      "source": [
        "train_predict = model.predict(X_train)\n",
        "test_predict = model.predict(X_test)"
      ],
      "metadata": {
        "id": "wykwCIR5OyPC"
      },
      "execution_count": null,
      "outputs": []
    },
    {
      "cell_type": "code",
      "source": [
        "train_predict = scaler.inverse_transform(train_predict)\n",
        "test_predict = scaler.inverse_transform(test_predict)"
      ],
      "metadata": {
        "id": "L04tf7roO99v"
      },
      "execution_count": null,
      "outputs": []
    },
    {
      "cell_type": "code",
      "source": [
        "import math\n",
        "from sklearn.metrics import mean_squared_error\n",
        "math.sqrt(mean_squared_error(y_train, train_predict))"
      ],
      "metadata": {
        "colab": {
          "base_uri": "https://localhost:8080/"
        },
        "id": "Lcjap3nuPPzv",
        "outputId": "f54a9481-e1a9-4a8e-f509-a51866257046"
      },
      "execution_count": null,
      "outputs": [
        {
          "output_type": "execute_result",
          "data": {
            "text/plain": [
              "225.24635795439588"
            ]
          },
          "metadata": {},
          "execution_count": 52
        }
      ]
    },
    {
      "cell_type": "code",
      "source": [
        "math.sqrt(mean_squared_error(y_test, test_predict))"
      ],
      "metadata": {
        "id": "TV0XLOy5PcXK",
        "outputId": "da3d2f90-6e8f-4df6-c1a9-20656fcd4240",
        "colab": {
          "base_uri": "https://localhost:8080/"
        }
      },
      "execution_count": null,
      "outputs": [
        {
          "output_type": "execute_result",
          "data": {
            "text/plain": [
              "149.4291404905064"
            ]
          },
          "metadata": {},
          "execution_count": 53
        }
      ]
    }
  ]
}